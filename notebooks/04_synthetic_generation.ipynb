{
 "cells": [
  {
   "cell_type": "markdown",
   "metadata": {},
   "source": [
    "# FairLend Kenya - Synthetic Data Generation\n",
    "## Generating Fair Credit Data with AI\n",
    "\n",
    "This notebook demonstrates the generation of fair synthetic credit data using FairLend Kenya's AI models."
   ]
  },
  {
   "cell_type": "code",
   "execution_count": null,
   "metadata": {},
   "outputs": [],
   "source": [
    "import pandas as pd\n",
    "import numpy as np\n",
    "import matplotlib.pyplot as plt\n",
    "import seaborn as sns\n",
    "import sys\n",
    "sys.path.append('../src')\n",
    "\n",
    "from synthetic_generator.fair_gan import FairDataGenerator\n",
    "from synthetic_generator.data_validator import DataValidator\n",
    "from data_processing.bias_detector import BiasDetector\n",
    "\n",
    "plt.style.use('seaborn-v0_8-darkgrid')\n",
    "%matplotlib inline\n",
    "\n",
    "import warnings\n",
    "warnings.filterwarnings('ignore')"
   ]
  },
  {
   "cell_type": "markdown",
   "metadata": {},
   "source": [
    "## 1. Load Original Data"
   ]
  },
  {
   "cell_type": "code",
   "execution_count": null,
   "metadata": {},
   "outputs": [],
   "source": [
    "# Load original biased data\n",
    "df_original = pd.read_csv('../data/sample_data.csv')\n",
    "print(f\"Original dataset: {df_original.shape}\")\n",
    "print(f\"Approval rate: {df_original['loan_approved'].mean():.2%}\")\n",
    "\n",
    "df_original.head()"
   ]
  },
  {
   "cell_type": "markdown",
   "metadata": {},
   "source": [
    "## 2. Analyze Original Data Bias"
   ]
  },
  {
   "cell_type": "code",
   "execution_count": null,
   "metadata": {},
   "outputs": [],
   "source": [
    "# Run bias analysis on original data\n",
    "detector = BiasDetector()\n",
    "df_original.to_csv('../data/temp_original.csv', index=False)\n",
    "original_bias_report = detector.analyze_dataset('../data/temp_original.csv')\n",
    "\n",
    "print(\"\\n\" + \"=\"*60)\n",
    "print(\"ORIGINAL DATA BIAS ANALYSIS\")\n",
    "print(\"=\"*60)\n",
    "\n",
    "for attr, metrics in original_bias_report['bias_metrics'].items():\n",
    "    if isinstance(metrics, dict):\n",
    "        print(f\"\\n{attr.upper()}:\")\n",
    "        print(f\"  Disparate Impact: {metrics['disparate_impact']:.3f}\")\n",
    "        print(f\"  Status: {'⚠️ BIASED' if metrics['is_biased'] else '✅ FAIR'}\")\n",
    "        for group, rate in metrics['approval_rates'].items():\n",
    "            print(f\"    {group}: {rate:.3f}\")"
   ]
  },
  {
   "cell_type": "markdown",
   "metadata": {},
   "source": [
    "## 3. Prepare Data for Synthetic Generation"
   ]
  },
  {
   "cell_type": "code",
   "execution_count": null,
   "metadata": {},
   "outputs": [],
   "source": [
    "# Select features for synthetic generation\n",
    "# Include all relevant columns\n",
    "columns_for_generation = [\n",
    "    'age', 'location', 'gender', 'business_type', 'monthly_income',\n",
    "    'mpesa_transaction_count', 'mpesa_avg_transaction', 'sacco_member',\n",
    "    'existing_loans', 'credit_history_months', 'loan_amount',\n",
    "    'education_level', 'loan_approved'\n",
    "]\n",
    "\n",
    "df_for_generation = df_original[columns_for_generation].copy()\n",
    "print(f\"Data prepared for generation: {df_for_generation.shape}\")\n",
    "print(f\"\\nColumns: {list(df_for_generation.
